{
 "cells": [
  {
   "attachments": {},
   "cell_type": "markdown",
   "metadata": {},
   "source": [
    "## MLFlow Implementation and Metrics Tracking\n",
    "\n",
    "This notebook showcases the implementation of MLFlow into the machine learning platform at ClassPass as a part of my internship and demonstrates how it is used to track metrics and other important aspects of the model development process.The notebook covers the setup process for MLFlow, recording and logging metrics, and visualizing the results. \n",
    "\n",
    "### Table of Contents\n",
    "[Setup](#setup)\n",
    "\n",
    "[Recording Metrics](#recording-metrics)\n",
    "\n",
    "[Logging Artifacts](#logging-artifacts)\n",
    "\n",
    "[Model Evaluation](#model-evaluation)\n",
    "\n",
    "[Conclusion](#conclusion)\n"
   ]
  },
  {
   "attachments": {},
   "cell_type": "markdown",
   "metadata": {},
   "source": [
    "### Setup"
   ]
  },
  {
   "cell_type": "code",
   "execution_count": 12,
   "metadata": {
    "vscode": {
     "languageId": "shellscript"
    }
   },
   "outputs": [
    {
     "name": "stdout",
     "output_type": "stream",
     "text": [
      "Defaulting to user installation because normal site-packages is not writeable\n",
      "Requirement already satisfied: mlflow in /Users/angelakim/Library/Python/3.8/lib/python/site-packages (2.4.1)\n",
      "Requirement already satisfied: click<9,>=7.0 in /Users/angelakim/Library/Python/3.8/lib/python/site-packages (from mlflow) (8.1.3)\n",
      "Requirement already satisfied: cloudpickle<3 in /Users/angelakim/Library/Python/3.8/lib/python/site-packages (from mlflow) (2.2.1)\n",
      "Requirement already satisfied: databricks-cli<1,>=0.8.7 in /Users/angelakim/Library/Python/3.8/lib/python/site-packages (from mlflow) (0.17.7)\n",
      "Requirement already satisfied: entrypoints<1 in /Users/angelakim/Library/Python/3.8/lib/python/site-packages (from mlflow) (0.4)\n",
      "Requirement already satisfied: gitpython<4,>=2.1.0 in /Users/angelakim/Library/Python/3.8/lib/python/site-packages (from mlflow) (3.1.31)\n",
      "Requirement already satisfied: pyyaml<7,>=5.1 in /Users/angelakim/Library/Python/3.8/lib/python/site-packages (from mlflow) (6.0)\n",
      "Requirement already satisfied: protobuf<5,>=3.12.0 in /Users/angelakim/Library/Python/3.8/lib/python/site-packages (from mlflow) (4.23.3)\n",
      "Requirement already satisfied: pytz<2024 in /Users/angelakim/Library/Python/3.8/lib/python/site-packages (from mlflow) (2023.3)\n",
      "Requirement already satisfied: requests<3,>=2.17.3 in /Users/angelakim/Library/Python/3.8/lib/python/site-packages (from mlflow) (2.28.2)\n",
      "Requirement already satisfied: packaging<24 in /Users/angelakim/Library/Python/3.8/lib/python/site-packages (from mlflow) (21.3)\n",
      "Requirement already satisfied: importlib-metadata!=4.7.0,<7,>=3.7.0 in /Users/angelakim/Library/Python/3.8/lib/python/site-packages (from mlflow) (6.7.0)\n",
      "Requirement already satisfied: sqlparse<1,>=0.4.0 in /Users/angelakim/Library/Python/3.8/lib/python/site-packages (from mlflow) (0.4.4)\n",
      "Requirement already satisfied: alembic!=1.10.0,<2 in /Users/angelakim/Library/Python/3.8/lib/python/site-packages (from mlflow) (1.11.1)\n",
      "Requirement already satisfied: docker<7,>=4.0.0 in /Users/angelakim/Library/Python/3.8/lib/python/site-packages (from mlflow) (6.1.3)\n",
      "Requirement already satisfied: Flask<3 in /Users/angelakim/Library/Python/3.8/lib/python/site-packages (from mlflow) (2.3.2)\n",
      "Requirement already satisfied: numpy<2 in /Users/angelakim/Library/Python/3.8/lib/python/site-packages (from mlflow) (1.24.3)\n",
      "Requirement already satisfied: scipy<2 in /Users/angelakim/Library/Python/3.8/lib/python/site-packages (from mlflow) (1.10.1)\n",
      "Requirement already satisfied: pandas<3 in /Users/angelakim/Library/Python/3.8/lib/python/site-packages (from mlflow) (2.0.2)\n",
      "Requirement already satisfied: querystring-parser<2 in /Users/angelakim/Library/Python/3.8/lib/python/site-packages (from mlflow) (1.2.4)\n",
      "Requirement already satisfied: sqlalchemy<3,>=1.4.0 in /Users/angelakim/Library/Python/3.8/lib/python/site-packages (from mlflow) (2.0.16)\n",
      "Requirement already satisfied: scikit-learn<2 in /Users/angelakim/Library/Python/3.8/lib/python/site-packages (from mlflow) (1.2.2)\n",
      "Requirement already satisfied: pyarrow<13,>=4.0.0 in /Users/angelakim/Library/Python/3.8/lib/python/site-packages (from mlflow) (12.0.1)\n",
      "Requirement already satisfied: markdown<4,>=3.3 in /Users/angelakim/Library/Python/3.8/lib/python/site-packages (from mlflow) (3.4.3)\n",
      "Requirement already satisfied: matplotlib<4 in /Users/angelakim/Library/Python/3.8/lib/python/site-packages (from mlflow) (3.7.1)\n",
      "Requirement already satisfied: gunicorn<21 in /Users/angelakim/Library/Python/3.8/lib/python/site-packages (from mlflow) (20.1.0)\n",
      "Requirement already satisfied: Jinja2<4,>=2.11 in /Users/angelakim/Library/Python/3.8/lib/python/site-packages (from mlflow) (3.1.2)\n",
      "Requirement already satisfied: Mako in /Users/angelakim/Library/Python/3.8/lib/python/site-packages (from alembic!=1.10.0,<2->mlflow) (1.2.4)\n",
      "Requirement already satisfied: typing-extensions>=4 in /Users/angelakim/Library/Python/3.8/lib/python/site-packages (from alembic!=1.10.0,<2->mlflow) (4.6.3)\n",
      "Requirement already satisfied: importlib-resources in /Users/angelakim/Library/Python/3.8/lib/python/site-packages (from alembic!=1.10.0,<2->mlflow) (5.12.0)\n",
      "Requirement already satisfied: pyjwt>=1.7.0 in /Users/angelakim/Library/Python/3.8/lib/python/site-packages (from databricks-cli<1,>=0.8.7->mlflow) (2.7.0)\n",
      "Requirement already satisfied: oauthlib>=3.1.0 in /Users/angelakim/Library/Python/3.8/lib/python/site-packages (from databricks-cli<1,>=0.8.7->mlflow) (3.2.2)\n",
      "Requirement already satisfied: tabulate>=0.7.7 in /Users/angelakim/Library/Python/3.8/lib/python/site-packages (from databricks-cli<1,>=0.8.7->mlflow) (0.9.0)\n",
      "Requirement already satisfied: six>=1.10.0 in /Users/angelakim/Library/Python/3.8/lib/python/site-packages (from databricks-cli<1,>=0.8.7->mlflow) (1.15.0)\n",
      "Requirement already satisfied: urllib3<2.0.0,>=1.26.7 in /Users/angelakim/Library/Python/3.8/lib/python/site-packages (from databricks-cli<1,>=0.8.7->mlflow) (1.26.14)\n",
      "Requirement already satisfied: websocket-client>=0.32.0 in /Users/angelakim/Library/Python/3.8/lib/python/site-packages (from docker<7,>=4.0.0->mlflow) (1.6.0)\n",
      "Requirement already satisfied: Werkzeug>=2.3.3 in /Users/angelakim/Library/Python/3.8/lib/python/site-packages (from Flask<3->mlflow) (2.3.6)\n",
      "Requirement already satisfied: itsdangerous>=2.1.2 in /Users/angelakim/Library/Python/3.8/lib/python/site-packages (from Flask<3->mlflow) (2.1.2)\n",
      "Requirement already satisfied: blinker>=1.6.2 in /Users/angelakim/Library/Python/3.8/lib/python/site-packages (from Flask<3->mlflow) (1.6.2)\n",
      "Requirement already satisfied: gitdb<5,>=4.0.1 in /Users/angelakim/Library/Python/3.8/lib/python/site-packages (from gitpython<4,>=2.1.0->mlflow) (4.0.10)\n",
      "Requirement already satisfied: setuptools>=3.0 in /Library/Developer/CommandLineTools/Library/Frameworks/Python3.framework/Versions/3.8/lib/python3.8/site-packages (from gunicorn<21->mlflow) (41.2.0)\n",
      "Requirement already satisfied: zipp>=0.5 in /Users/angelakim/Library/Python/3.8/lib/python/site-packages (from importlib-metadata!=4.7.0,<7,>=3.7.0->mlflow) (3.15.0)\n",
      "Requirement already satisfied: MarkupSafe>=2.0 in /Users/angelakim/Library/Python/3.8/lib/python/site-packages (from Jinja2<4,>=2.11->mlflow) (2.1.3)\n",
      "Requirement already satisfied: contourpy>=1.0.1 in /Users/angelakim/Library/Python/3.8/lib/python/site-packages (from matplotlib<4->mlflow) (1.1.0)\n",
      "Requirement already satisfied: cycler>=0.10 in /Users/angelakim/Library/Python/3.8/lib/python/site-packages (from matplotlib<4->mlflow) (0.11.0)\n",
      "Requirement already satisfied: fonttools>=4.22.0 in /Users/angelakim/Library/Python/3.8/lib/python/site-packages (from matplotlib<4->mlflow) (4.40.0)\n",
      "Requirement already satisfied: kiwisolver>=1.0.1 in /Users/angelakim/Library/Python/3.8/lib/python/site-packages (from matplotlib<4->mlflow) (1.4.4)\n",
      "Requirement already satisfied: pillow>=6.2.0 in /Users/angelakim/Library/Python/3.8/lib/python/site-packages (from matplotlib<4->mlflow) (9.5.0)\n",
      "Requirement already satisfied: pyparsing>=2.3.1 in /Users/angelakim/Library/Python/3.8/lib/python/site-packages (from matplotlib<4->mlflow) (3.0.9)\n",
      "Requirement already satisfied: python-dateutil>=2.7 in /Users/angelakim/Library/Python/3.8/lib/python/site-packages (from matplotlib<4->mlflow) (2.8.2)\n",
      "Requirement already satisfied: tzdata>=2022.1 in /Users/angelakim/Library/Python/3.8/lib/python/site-packages (from pandas<3->mlflow) (2023.3)\n",
      "Requirement already satisfied: charset-normalizer<4,>=2 in /Users/angelakim/Library/Python/3.8/lib/python/site-packages (from requests<3,>=2.17.3->mlflow) (3.0.1)\n",
      "Requirement already satisfied: idna<4,>=2.5 in /Users/angelakim/Library/Python/3.8/lib/python/site-packages (from requests<3,>=2.17.3->mlflow) (3.4)\n",
      "Requirement already satisfied: certifi>=2017.4.17 in /Users/angelakim/Library/Python/3.8/lib/python/site-packages (from requests<3,>=2.17.3->mlflow) (2022.12.7)\n",
      "Requirement already satisfied: joblib>=1.1.1 in /Users/angelakim/Library/Python/3.8/lib/python/site-packages (from scikit-learn<2->mlflow) (1.2.0)\n",
      "Requirement already satisfied: threadpoolctl>=2.0.0 in /Users/angelakim/Library/Python/3.8/lib/python/site-packages (from scikit-learn<2->mlflow) (3.1.0)\n",
      "Requirement already satisfied: greenlet!=0.4.17 in /Users/angelakim/Library/Python/3.8/lib/python/site-packages (from sqlalchemy<3,>=1.4.0->mlflow) (2.0.2)\n",
      "Requirement already satisfied: smmap<6,>=3.0.1 in /Users/angelakim/Library/Python/3.8/lib/python/site-packages (from gitdb<5,>=4.0.1->gitpython<4,>=2.1.0->mlflow) (5.0.0)\n",
      "Note: you may need to restart the kernel to use updated packages.\n"
     ]
    }
   ],
   "source": [
    "pip install mlflow"
   ]
  },
  {
   "cell_type": "code",
   "execution_count": 13,
   "metadata": {
    "vscode": {
     "languageId": "shellscript"
    }
   },
   "outputs": [],
   "source": [
    "import os\n",
    "import sys\n",
    "import warnings\n",
    "import pandas as pd\n",
    "import numpy as np\n",
    "\n",
    "from sklearn.metrics import mean_squared_error, mean_absolute_error, r2_score\n",
    "from sklearn.model_selection import train_test_split\n",
    "from sklearn.linear_model import ElasticNet\n",
    "from urllib.parse import urlparse\n",
    "import logging\n",
    "logging.basicConfig(level=logging.WARN)\n",
    "logger = logging.getLogger(__name__)\n",
    "\n",
    "# Preparing wine quality dataset\n",
    "\n",
    "csv_url = (\"http://archive.ics.uci.edu/ml/machine-learning-databases/wine-quality/winequality-red.csv\" )\n",
    "\n",
    "try:\n",
    "    data = pd.read_csv(csv_url, sep=\";\")\n",
    "except Exception as e:\n",
    "    logger.exception(\"Unable to download training & test CSV, check your internet connection. Error: %s\", e)\n"
   ]
  },
  {
   "cell_type": "code",
   "execution_count": 14,
   "metadata": {
    "vscode": {
     "languageId": "shellscript"
    }
   },
   "outputs": [
    {
     "data": {
      "text/html": [
       "<div>\n",
       "<style scoped>\n",
       "    .dataframe tbody tr th:only-of-type {\n",
       "        vertical-align: middle;\n",
       "    }\n",
       "\n",
       "    .dataframe tbody tr th {\n",
       "        vertical-align: top;\n",
       "    }\n",
       "\n",
       "    .dataframe thead th {\n",
       "        text-align: right;\n",
       "    }\n",
       "</style>\n",
       "<table border=\"1\" class=\"dataframe\">\n",
       "  <thead>\n",
       "    <tr style=\"text-align: right;\">\n",
       "      <th></th>\n",
       "      <th>fixed acidity</th>\n",
       "      <th>volatile acidity</th>\n",
       "      <th>citric acid</th>\n",
       "      <th>residual sugar</th>\n",
       "      <th>chlorides</th>\n",
       "      <th>free sulfur dioxide</th>\n",
       "      <th>total sulfur dioxide</th>\n",
       "      <th>density</th>\n",
       "      <th>pH</th>\n",
       "      <th>sulphates</th>\n",
       "      <th>alcohol</th>\n",
       "      <th>quality</th>\n",
       "    </tr>\n",
       "  </thead>\n",
       "  <tbody>\n",
       "    <tr>\n",
       "      <th>0</th>\n",
       "      <td>7.4</td>\n",
       "      <td>0.70</td>\n",
       "      <td>0.00</td>\n",
       "      <td>1.9</td>\n",
       "      <td>0.076</td>\n",
       "      <td>11.0</td>\n",
       "      <td>34.0</td>\n",
       "      <td>0.9978</td>\n",
       "      <td>3.51</td>\n",
       "      <td>0.56</td>\n",
       "      <td>9.4</td>\n",
       "      <td>5</td>\n",
       "    </tr>\n",
       "    <tr>\n",
       "      <th>1</th>\n",
       "      <td>7.8</td>\n",
       "      <td>0.88</td>\n",
       "      <td>0.00</td>\n",
       "      <td>2.6</td>\n",
       "      <td>0.098</td>\n",
       "      <td>25.0</td>\n",
       "      <td>67.0</td>\n",
       "      <td>0.9968</td>\n",
       "      <td>3.20</td>\n",
       "      <td>0.68</td>\n",
       "      <td>9.8</td>\n",
       "      <td>5</td>\n",
       "    </tr>\n",
       "    <tr>\n",
       "      <th>2</th>\n",
       "      <td>7.8</td>\n",
       "      <td>0.76</td>\n",
       "      <td>0.04</td>\n",
       "      <td>2.3</td>\n",
       "      <td>0.092</td>\n",
       "      <td>15.0</td>\n",
       "      <td>54.0</td>\n",
       "      <td>0.9970</td>\n",
       "      <td>3.26</td>\n",
       "      <td>0.65</td>\n",
       "      <td>9.8</td>\n",
       "      <td>5</td>\n",
       "    </tr>\n",
       "    <tr>\n",
       "      <th>3</th>\n",
       "      <td>11.2</td>\n",
       "      <td>0.28</td>\n",
       "      <td>0.56</td>\n",
       "      <td>1.9</td>\n",
       "      <td>0.075</td>\n",
       "      <td>17.0</td>\n",
       "      <td>60.0</td>\n",
       "      <td>0.9980</td>\n",
       "      <td>3.16</td>\n",
       "      <td>0.58</td>\n",
       "      <td>9.8</td>\n",
       "      <td>6</td>\n",
       "    </tr>\n",
       "    <tr>\n",
       "      <th>4</th>\n",
       "      <td>7.4</td>\n",
       "      <td>0.70</td>\n",
       "      <td>0.00</td>\n",
       "      <td>1.9</td>\n",
       "      <td>0.076</td>\n",
       "      <td>11.0</td>\n",
       "      <td>34.0</td>\n",
       "      <td>0.9978</td>\n",
       "      <td>3.51</td>\n",
       "      <td>0.56</td>\n",
       "      <td>9.4</td>\n",
       "      <td>5</td>\n",
       "    </tr>\n",
       "  </tbody>\n",
       "</table>\n",
       "</div>"
      ],
      "text/plain": [
       "   fixed acidity  volatile acidity  citric acid  residual sugar  chlorides  \\\n",
       "0            7.4              0.70         0.00             1.9      0.076   \n",
       "1            7.8              0.88         0.00             2.6      0.098   \n",
       "2            7.8              0.76         0.04             2.3      0.092   \n",
       "3           11.2              0.28         0.56             1.9      0.075   \n",
       "4            7.4              0.70         0.00             1.9      0.076   \n",
       "\n",
       "   free sulfur dioxide  total sulfur dioxide  density    pH  sulphates  \\\n",
       "0                 11.0                  34.0   0.9978  3.51       0.56   \n",
       "1                 25.0                  67.0   0.9968  3.20       0.68   \n",
       "2                 15.0                  54.0   0.9970  3.26       0.65   \n",
       "3                 17.0                  60.0   0.9980  3.16       0.58   \n",
       "4                 11.0                  34.0   0.9978  3.51       0.56   \n",
       "\n",
       "   alcohol  quality  \n",
       "0      9.4        5  \n",
       "1      9.8        5  \n",
       "2      9.8        5  \n",
       "3      9.8        6  \n",
       "4      9.4        5  "
      ]
     },
     "execution_count": 14,
     "metadata": {},
     "output_type": "execute_result"
    }
   ],
   "source": [
    "data.head()"
   ]
  },
  {
   "cell_type": "code",
   "execution_count": 15,
   "metadata": {
    "vscode": {
     "languageId": "shellscript"
    }
   },
   "outputs": [],
   "source": [
    "# Split into testing and training data\n",
    "\n",
    "train, test = train_test_split(data,test_size= 0.8)\n",
    "train_x = train.drop([\"quality\"], axis=1)\n",
    "test_x = test.drop([\"quality\"], axis=1)\n",
    "train_y = train[[\"quality\"]]\n",
    "test_y = test[[\"quality\"]]"
   ]
  },
  {
   "cell_type": "code",
   "execution_count": 16,
   "metadata": {
    "vscode": {
     "languageId": "shellscript"
    }
   },
   "outputs": [],
   "source": [
    "# Function defs for calculating metrics + training model\n",
    "\n",
    "def train_model(train_x,train_y,alpha = 0.5, l1_ratio = 0.5):\n",
    "    lr = ElasticNet(alpha=alpha, l1_ratio=l1_ratio, random_state=42)\n",
    "    lr.fit(train_x, train_y)\n",
    "    return lr,alpha,l1_ratio\n",
    "\n",
    "def eval_metrics(actual, pred):\n",
    "    rmse = np.sqrt(mean_squared_error(actual, pred))\n",
    "    mae = mean_absolute_error(actual, pred)\n",
    "    r2 = r2_score(actual, pred)\n",
    "    return rmse, mae, r2"
   ]
  },
  {
   "cell_type": "code",
   "execution_count": 17,
   "metadata": {
    "vscode": {
     "languageId": "shellscript"
    }
   },
   "outputs": [
    {
     "name": "stdout",
     "output_type": "stream",
     "text": [
      "Elasticnet model (alpha=0.500000, l1_ratio=0.500000):\n",
      "  RMSE: 0.7711173372011396\n",
      "  MAE: 0.5991481178100836\n",
      "  R2: 0.09011483982270041\n"
     ]
    }
   ],
   "source": [
    "# Start mlflow session\n",
    "\n",
    "import mlflow\n",
    "import mlflow.sklearn\n",
    "\n",
    "# Importing mlflow package \n",
    "with mlflow.start_run():\n",
    "    # Train model \n",
    "    lr, alpha, l1_ratio = train_model(train_x, train_y)\n",
    "    predicted_qualities = lr.predict(test_x)\n",
    "    (rmse, mae, r2) = eval_metrics(test_y, predicted_qualities)\n",
    "    print(\"Elasticnet model (alpha=%f, l1_ratio=%f):\" % (alpha, l1_ratio))\n",
    "    print(\"  RMSE: %s\" % rmse)\n",
    "    print(\"  MAE: %s\" % mae)\n",
    "    print(\"  R2: %s\" % r2)\n",
    "    # Log params and metrics \n",
    "    mlflow.log_param(\"alpha\", alpha)\n",
    "    mlflow.log_param(\"l1_ratio\", l1_ratio)\n",
    "    mlflow.log_metric(\"rmse\", rmse)\n",
    "    mlflow.log_metric(\"r2\", r2)\n",
    "    mlflow.log_metric(\"mae\", mae)\n",
    "    tracking_url_type_store = urlparse(mlflow.get_tracking_uri()).scheme\n",
    "    if tracking_url_type_store != \"file\":\n",
    "        mlflow.sklearn.log_model(lr, \"model\", registered_model_name=\"ElasticnetWineModel\")\n",
    "    else:\n",
    "        mlflow.sklearn.log_model(lr, \"model\")\n"
   ]
  },
  {
   "cell_type": "code",
   "execution_count": null,
   "metadata": {
    "vscode": {
     "languageId": "shellscript"
    }
   },
   "outputs": [],
   "source": [
    "!mlflow ui"
   ]
  }
 ],
 "metadata": {
  "kernelspec": {
   "display_name": "Python 3",
   "language": "python",
   "name": "python3"
  },
  "language_info": {
   "codemirror_mode": {
    "name": "ipython",
    "version": 3
   },
   "file_extension": ".py",
   "mimetype": "text/x-python",
   "name": "python",
   "nbconvert_exporter": "python",
   "pygments_lexer": "ipython3",
   "version": "3.8.2"
  },
  "orig_nbformat": 4
 },
 "nbformat": 4,
 "nbformat_minor": 2
}
